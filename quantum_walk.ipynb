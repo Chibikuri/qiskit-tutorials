{
 "cells": [
  {
   "cell_type": "markdown",
   "metadata": {
    "colab": {},
    "colab_type": "code",
    "id": "yWabJ-GfTENP"
   },
   "source": [
    "<img src=\"../../../images/qiskit-heading.png\" alt=\"Note: In order for images to show up in this jupyter notebook you need to select File => Trusted Notebook\" width=\"500 px\" align=\"left\">"
   ]
  },
  {
   "cell_type": "markdown",
   "metadata": {},
   "source": [
    "# Implementation of Quantum Walks on graph  for IBM Q\n",
    "This notebook is based on the paper of  B L Douglas and J B Wang, \"Efficient quantum circuit implementation of quantum walks\", arXiv:0706.0304 [quant-ph]."
   ]
  },
  {
   "cell_type": "markdown",
   "metadata": {},
   "source": [
    "## Contributors\n",
    "Jordan Kemp(University of Chicago), Shin Nishio(Keio University), Ryosuke Satoh(Keio University), Desiree Vogt-Lee(University of Queensland), and Tanisha Bassan(The  Knowledge Society)"
   ]
  },
  {
   "cell_type": "markdown",
   "metadata": {},
   "source": [
    "## Introduction: challenges in implementing quantum walk\n",
    "\n",
    "There are so  many types of quantum walks. Walker can walk on n-dimensional space or any limited graphs. First we talk about the concept and dynamics of Quantum and Classical random walk. After that we show the implementation of Quantum Walk on cycle graph."
   ]
  },
  {
   "cell_type": "markdown",
   "metadata": {},
   "source": [
    "## Random walk \n",
    "Random walk is a dynamics which is randomly time evolving system. Figure shows a simple type of random walk. "
   ]
  },
  {
   "cell_type": "markdown",
   "metadata": {},
   "source": [
    "<img src=\"../images/quantum_walk/random_walk.png\" alt=\"Note: In order for images to show up in this jupyter notebook you need to select File => Trusted Notebook\" width=\"300 px\" align=\"center\">"
   ]
  },
  {
   "cell_type": "markdown",
   "metadata": {},
   "source": [
    "The dynamics can be regarded as a simple algorithm as shown.\n",
    "1. There is a $n$-dimension(in this case, one for simple) space and a walker start at the point $x=0$\n",
    "2. take a step either forward (toward $+x$) or backward(toward $-x$) \n",
    "in 2., the choice is to be made randomly(ex: coin-flip). We call this \"Coin Operator\". \n",
    "\n",
    "In this system, $p+q = 1$"
   ]
  },
  {
   "cell_type": "markdown",
   "metadata": {},
   "source": [
    "## Quantum walk \n",
    "Quantum walk is \"quantum version\" of random walk. This means theoin function can be Unitary gate($U(2)$) which is non-random and reversible. \n",
    "\n",
    "$p+q = U ∈ U(2)$. \n",
    "\n",
    "In this experiments, we use Hadamard gate for coin function since it puts our qubits in a state of superposition simulating the coin based probability, \n",
    "$$H=\\frac{1}{\\sqrt{2}}\\left [{\\begin{array}{rr}1 & 1 \\\\ 1 & -1\\\\ \\end{array}}\\right]$$\n",
    "\n",
    "There are continuous and discrete quantum walks, in our experiment we use the discrete framework. In the discrete, unitary operations are made of coin and shift operators U = SC which work in a state space.\n",
    "An arbitrary undirected graph $G(V,E)$ where $V = {v_1, v_2, ..v_n}$ as nodes on the graph and $E = {(v_x, v_y) , ( v_i, v_j) …}$ as edges that combine different nodes together.\n",
    "The quantum walk extends into a position space where each node vi with a certain valency di is split into di subnodes. The shifting operator then acts as $S (v_i, a_i) = (v_j, a_j)$ and coin operator are unitary gates which combine the probability amplitudes with individual subnodes under each node.\n",
    "A unitary of $v_i$ with valency $d_i$ can be represented as $(d_i \\times d_i)$. The total states of system is defined by the hilbert space $$H = H_c + H_p$$, respectively coin hilbert space and position hilbert space. \n"
   ]
  },
  {
   "cell_type": "markdown",
   "metadata": {},
   "source": [
    "\n",
    "## Coin function\n",
    "The first step in a quantum random walk is the coin operator. The operation works by an arbitrary unitary transformation in the coin space which creates a rotation similar to “coin-flip” in random walk. This is mainly the hadamard gate which models the balanced unitary coin. \n",
    "$$H=\\frac{1}{\\sqrt{2}}\\left [{\\begin{array}{rr}1 & 1 \\\\ 1 & -1\\\\ \\end{array}}\\right]$$"
   ]
  },
  {
   "cell_type": "markdown",
   "metadata": {},
   "source": [
    "The coin register will continue interfering with it’s position state until measured after all intermediate steps. The results are very different from random walks, it doesn’t converge to a gaussian distribution but to evolves into an asymmetric probability distribution. This happens because the hadamard coin operator treats each basis vectors |↑> and |↓>  differently. The rightwards path interferes more destructively as it’s multiplied but -1 but leftwards path is constructive interference. System tends to take steps towards the left. To reach symmetric results, both base vectors will start in superposition states of both |↑> and |↓>. Another way to reach symmetry is use a different coin operator which doesn’t bias the coin towards a certain base vector. \n",
    "$$Y=\\frac{1}{\\sqrt{2}}\\left [{\\begin{array}{rr}1 & i \\\\ i & 1\\\\ \\end{array}}\\right]$$\n"
   ]
  },
  {
   "cell_type": "markdown",
   "metadata": {},
   "source": [
    "## Quantum walk on cycle graph\n",
    "Our experiment is conducting a quantum random walk on circular graph which is efficiently and simply implemented on the quantum circuit. The graph has 8 nodes with 2 attached edges which act as the subnodes on the circuit. \n"
   ]
  },
  {
   "cell_type": "markdown",
   "metadata": {},
   "source": [
    "<img src=\"../images/quantum_walk/8_white.jpg\" alt=\"Note: In order for images to show up in this jupyter notebook you need to select File => Trusted Notebook\" width=\"300 px\" align=\"center\">"
   ]
  },
  {
   "cell_type": "markdown",
   "metadata": {},
   "source": [
    "The operations propagate systemically around the graph as each node is a seperate bit-string value in lexicographic order. For 2n graph, n qubits required to encode problem and 1 ancilla qubit for subnode(coin). "
   ]
  },
  {
   "cell_type": "markdown",
   "metadata": {},
   "source": [
    "<img src=\"../images/quantum_walk/whole_circuit.jpg\" alt=\"Note: In order for images to show up in this jupyter notebook you need to select File => Trusted Notebook\" width=\"300 px\" align=\"center\">"
   ]
  },
  {
   "cell_type": "markdown",
   "metadata": {},
   "source": [
    "This circuits shows whole process(for 2 flip) of Quantum Walk on cycle graph with $2^3$nodes. \n",
    "Gray square frame is a set of Coin operator and shift operator. \n",
    "In this circuit, q[0] to q[2] represents the state (position) of quantum walker, and q[3] represents Coin Operator.\n",
    "\n",
    "In this style, programmer can insert initial position of walker as 3-qubits state. For example, if the input is $110$, the position is $6$.\n",
    "\n",
    "Coin operator decide whether walker go Clockwise or Counterclockwise.\n",
    "\n",
    "INC is gates that increment the state of walker which is equal to Clockwise rotation in the cycle graph. \n",
    "DEC is gates that decrement the state of walker which is equal to Counterclockwise rotation in cycle graph.\n",
    "\n",
    "After repeating of the coin operator and the shift operator, measure the qubits other than the coin qubit, it is possible to know the position of the walker.\n",
    "\n",
    "## $n$-qubit Toffoli"
   ]
  },
  {
   "cell_type": "markdown",
   "metadata": {},
   "source": [
    "<img src=\"../images/quantum_walk/toffoli.png\" alt=\"Note: In order for images to show up in this jupyter notebook you need to select File => Trusted Notebook\" align=\"center\">"
   ]
  },
  {
   "cell_type": "markdown",
   "metadata": {},
   "source": [
    "Toffoli gate is CCNOT(CCX) gate.\n",
    "By using Toffoli, X gates executed on Q2 if Q0 and Q1 is 1.\n",
    "In quantum walk implementation, we need more connection for expanding quantum walk implementation.\n",
    "For example, CCX can be written as below by using only available gate set of IBMQ devices.\n",
    "\n",
    "Thus, more than 4 qubits, we can implement many qubits of CX gate (\"C$N$X gate\") with this way.\n",
    "Reference is shown [here](\"https://journals.aps.org/pra/abstract/10.1103/PhysRevA.52.3457\").\n"
   ]
  },
  {
   "cell_type": "markdown",
   "metadata": {},
   "source": [
    "<img src=\"../images/quantum_walk/implement_toffoli.png\" alt=\"Note: In order for images to show up in this jupyter notebook you need to select File => Trusted Notebook\" align=\"center\">"
   ]
  },
  {
   "cell_type": "markdown",
   "metadata": {},
   "source": [
    "C$N$X can be represented using C($N-1$)X as shown."
   ]
  },
  {
   "cell_type": "code",
   "execution_count": 2,
   "metadata": {},
   "outputs": [],
   "source": [
    "def cnx(qc,*qubits):\n",
    "    if len(qubits) >= 3:\n",
    "        last = qubits[-1]\n",
    "        #A matrix: (made up of a  and Y rotation, lemma4.3)\n",
    "        qc.crz(np.pi/2, qubits[-2], qubits[-1])\n",
    "        #cry\n",
    "        qc.cu3(np.pi/2, 0, 0, qubits[-2],qubits[-1])\n",
    "        \n",
    "        #Control not gate\n",
    "        cnx(qc,*qubits[:-2],qubits[-1])\n",
    "        \n",
    "        #B matrix (cry again, but opposite angle)\n",
    "        qc.cu3(-np.pi/2, 0, 0, qubits[-2], qubits[-1])\n",
    "        \n",
    "        #Control\n",
    "        cnx(qc,*qubits[:-2],qubits[-1])\n",
    "        \n",
    "        #C matrix (final rotation)\n",
    "        qc.crz(-np.pi/2,qubits[-2],qubits[-1])\n",
    "    elif len(qubits)==3:\n",
    "        qc.ccx(*qubits)\n",
    "    elif len(qubits)==2:\n",
    "        qc.cx(*qubits)"
   ]
  },
  {
   "cell_type": "markdown",
   "metadata": {},
   "source": [
    "Decide the number of qubits $n$ for represent walker's state. (Whole circuits requires $n+1$ qubits)"
   ]
  },
  {
   "cell_type": "code",
   "execution_count": 3,
   "metadata": {
    "colab": {},
    "colab_type": "code",
    "id": "lHI4G7fgT9Wn"
   },
   "outputs": [],
   "source": [
    "import numpy as np\n",
    "from qiskit import IBMQ, QuantumCircuit, ClassicalRegister, QuantumRegister, execute\n",
    "from qiskit.tools.visualization import plot_histogram,plot_state_city\n",
    "\n",
    "n=3"
   ]
  },
  {
   "cell_type": "code",
   "execution_count": 4,
   "metadata": {
    "colab": {
     "base_uri": "https://localhost:8080/",
     "height": 85
    },
    "colab_type": "code",
    "id": "kLSxVQxerGyo",
    "outputId": "b319f1d1-b5aa-4113-e12b-eecbf993a362"
   },
   "outputs": [
    {
     "name": "stderr",
     "output_type": "stream",
     "text": [
      "Remote backend \"ibmqx_qasm_simulator\" could not be instantiated due to an invalid config: {'local': ['Missing data for required field.'], 'memory': ['Missing data for required field.'], 'gates': {0: {'qasm_def': ['Missing data for required field.'], 'name': ['Missing data for required field.'], 'parameters': ['Missing data for required field.']}}, 'max_shots': ['Missing data for required field.'], 'conditional': ['Missing data for required field.'], 'backend_name': ['Missing data for required field.'], 'basis_gates': ['Missing data for required field.'], 'n_qubits': ['Missing data for required field.'], 'backend_version': ['Missing data for required field.'], 'open_pulse': ['Missing data for required field.']}\n"
     ]
    },
    {
     "data": {
      "text/plain": [
       "[<IBMQBackend('ibmq_qasm_simulator') from IBMQ(ibm-q-keio, keio-internal, keio-students)>,\n",
       " <IBMQBackend('ibmq_20_tokyo') from IBMQ(ibm-q-keio, keio-internal, keio-students)>,\n",
       " <IBMQBackend('ibmq_poughkeepsie') from IBMQ(ibm-q-keio, keio-internal, keio-students)>]"
      ]
     },
     "execution_count": 4,
     "metadata": {},
     "output_type": "execute_result"
    }
   ],
   "source": [
    "IBMQ.load_accounts()\n",
    "#IBMQ.enable_account(\"53a94ea70a24c85cfac5f5e87e369d813f5efff70fed9c973b2b3637be5b2e0378da1921b5bbd786574e74d44dd8a64dda3095dbbda528b414c1b567476a87b2\")\n",
    "IBMQ.backends()"
   ]
  },
  {
   "cell_type": "markdown",
   "metadata": {},
   "source": [
    "Increment gate and decrement gate are the shift operator for walk.\n",
    "Both of them including the C$N$X gates and change the position of the walker based on the coin operator."
   ]
  },
  {
   "cell_type": "code",
   "execution_count": 5,
   "metadata": {
    "colab": {},
    "colab_type": "code",
    "id": "ysx7VXO2a95V"
   },
   "outputs": [],
   "source": [
    "#IN/DECREMENT GATES FOR N=3\n",
    "\n",
    "def increment_gate(qwc, q, subnode):\n",
    "  \n",
    "  cnx(qwc, subnode[0], q[2], q[1], q[0])\n",
    "  cnx(qwc, subnode[0], q[2], q[1])\n",
    "  cnx(qwc, subnode[0], q[2])\n",
    "  qwc.barrier()\n",
    "  return qwc\n",
    "\n",
    "def decrement_gate(qwc, q, subnode):\n",
    "  \n",
    "  qwc.x(subnode[0])\n",
    "  qwc.x(q[2])\n",
    "  qwc.x(q[1])\n",
    "  cnx(qwc, subnode[0], q[2], q[1], q[0])\n",
    "  qwc.x(q[1])\n",
    "  cnx(qwc, subnode[0], q[2], q[1])\n",
    "  qwc.x(q[2])\n",
    "  cnx(qwc, subnode[0], q[2])\n",
    "  qwc.x(subnode[0])\n",
    "  return qwc\n",
    "  \n",
    "def ibmsim(circ):\n",
    "  ibmqBE = IBMQ.get_backend('ibmq_qasm_simulator')\n",
    "  return execute(circ,ibmqBE, shots=1000).result().get_counts(circ)  "
   ]
  },
  {
   "cell_type": "markdown",
   "metadata": {},
   "source": [
    "Repeat coin operator and shift operator for any steps(in this case 15)."
   ]
  },
  {
   "cell_type": "code",
   "execution_count": 6,
   "metadata": {
    "colab": {
     "base_uri": "https://localhost:8080/",
     "height": 408
    },
    "colab_type": "code",
    "id": "PUUoi5T69zvX",
    "outputId": "11b916d3-4cc9-40d2-9017-dc072de02630"
   },
   "outputs": [
    {
     "name": "stdout",
     "output_type": "stream",
     "text": [
      "['/Users/ryosuke/anaconda3/lib/python3.7/site-packages/matplotlib']\n",
      "{'0 111': 483, '0 100': 517}\n"
     ]
    }
   ],
   "source": [
    "qnodes = QuantumRegister(n,'qc')\n",
    "qsubnodes = QuantumRegister(1,'qanc')\n",
    "csubnodes = ClassicalRegister(1,'canc')\n",
    "cnodes = ClassicalRegister(n,'cr')\n",
    "\n",
    "qwc = QuantumCircuit(qnodes, qsubnodes, cnodes, csubnodes)\n",
    "\n",
    "\n",
    "def runQWC(qwc, times):\n",
    "    for i in range(times):\n",
    "        qwc.h(qsubnodes[0])\n",
    "        increment_gate(qwc, qnodes, qsubnodes[0])\n",
    "        decrement_gate(qwc,qnodes,qsubnodes[0])\n",
    "        qwc.measure(qnodes, cnodes)\n",
    "\n",
    "    return qwc\n",
    "\n",
    "\n",
    "import matplotlib as mpl\n",
    "print(mpl.__path__)\n",
    "step = 1\n",
    "qwc = runQWC(qwc, step)\n",
    "qwc.draw(output=\"mpl\")\n",
    "# print(qwc)\n",
    "result = ibmsim(qwc)\n",
    "print(result)"
   ]
  },
  {
   "cell_type": "code",
   "execution_count": 7,
   "metadata": {
    "colab": {},
    "colab_type": "code",
    "id": "LprBkgB9AGVr"
   },
   "outputs": [],
   "source": [
    "def runQWC(qwc, times):\n",
    "    for i in range(times):\n",
    "        qwc.h(qsubnodes[0])\n",
    "        increment_gate(qwc, qnodes, qsubnodes[0])\n",
    "        decrement_gate(qwc,qnodes,qsubnodes[0])\n",
    "        qwc.measure(qnodes, cnodes)\n",
    "\n",
    "    return qwc"
   ]
  },
  {
   "cell_type": "markdown",
   "metadata": {},
   "source": [
    "The first qubit which is always 0 is the coin qubit.\n",
    "Second to fourth is the position of the walker(binary).\n",
    "You can also see the distribution using plot_histogram."
   ]
  },
  {
   "cell_type": "code",
   "execution_count": 8,
   "metadata": {},
   "outputs": [
    {
     "data": {
      "image/png": "[encoded data removed]",
      "text/plain": [
       "<Figure size 504x360 with 1 Axes>"
      ]
     },
     "execution_count": 8,
     "metadata": {},
     "output_type": "execute_result"
    }
   ],
   "source": [
    "result = ibmsim(qwc)\n",
    "plot_histogram(result)"
   ]
  },
  {
   "cell_type": "markdown",
   "metadata": {},
   "source": [
    "## Results\n",
    "This is the example of whole iteration. The size of each node represents probability of existing quantum walker. "
   ]
  },
  {
   "cell_type": "markdown",
   "metadata": {},
   "source": [
    "<img src=\"../images/quantum_walk/fast.gif\" alt=\"Note: In order for images to show up in this jupyter notebook you need to select File => Trusted Notebook\" align=\"center\">"
   ]
  },
  {
   "cell_type": "markdown",
   "metadata": {},
   "source": [
    "## Required Resources\n",
    "In this  algorithm, we need $n+1$ qubits for a cycle graph with $2^n$ nodes. As you can see in the circuit, time complexity increases linearly. We take $7$ data points of steps($1, 10, 20, 30, 40, 50, 100$). This is the result of relation between execution time on 'qasm_simulator' and the number of steps."
   ]
  },
  {
   "cell_type": "markdown",
   "metadata": {},
   "source": [
    "<img src=\"../images/quantum_walk/executiontime.png\" alt=\"Note: In order for images to show up in this jupyter notebook you need to select File => Trusted Notebook\" align=\"center\">"
   ]
  },
  {
   "cell_type": "markdown",
   "metadata": {},
   "source": [
    "\n",
    "32 qubits 2^31 nodes ← cost time....(execution) \n",
    "Limitations \n",
    "\n",
    "## Discussion about Future Work and Applications\n",
    "\n",
    "_Many particle quantum random walk_\n",
    "\n",
    "Simulation evolution of spatial entanglement in many-body physics problems. The graph is a 1D lattice with a particle on each node as initial state. Each particle has separate position and coin hilbert space H = (Hc ⊗ Hp)⊗M. The particles independantly evolve and don't interact. 3-particle system graph are easily implemented in quantum walk but more particles increase number of steps in quantum walk and measurement of entanglement become difficult. More efficient methods of quantum walk implementation will help increase the number of particle systems studied in evolution.  \n",
    "\n",
    "_Expansion of number of nodes on graph_ \n",
    "\n",
    "The graph implemented in this project is 3 qubits for 8 nodes and 1 qubit for coin operation. In total only 4 qubits are used for evolution. The total time for iterating through coin and shift operator is 16 seconds for 100 flips. \n",
    "We look at a real world problem that can be applied in quantum random walk on graphs with more nodes. Mapping enzymes as nodes on a graph to understand their evolution when in contact with mutagens only requires 33 nodes which can be mapped out on 7 qubit circuit. This will increase total time to 49 seconds for 100 flips. This is a scalable model which can continue to grow to map more complex graphs to problems. \n",
    "\n",
    "Time complexity for  classcal computer (QC-simulator) get approximately $({\\frac{m+1}{n+1}})^2$ if the number of nodes becomes $2^m$ from $2^n$. This value is based on number of qubits and roughly estimated. \n",
    "\n",
    "## Conclusion\n",
    "In this notebook we showed the basics of Quantum Walk and implementation on Quantum Circuit.\n",
    "This algorithm requires $n+1$ qubits for any cycle graph with $2^n$ nodes. "
   ]
  }
 ],
 "metadata": {
  "colab": {
   "collapsed_sections": [],
   "name": "quantum_walk.ipynb",
   "provenance": [],
   "version": "0.3.2"
  },
  "kernelspec": {
   "display_name": "Python 3",
   "language": "python",
   "name": "python3"
  },
  "language_info": {
   "codemirror_mode": {
    "name": "ipython",
    "version": 3
   },
   "file_extension": ".py",
   "mimetype": "text/x-python",
   "name": "python",
   "nbconvert_exporter": "python",
   "pygments_lexer": "ipython3",
   "version": "3.7.1"
  }
 },
 "nbformat": 4,
 "nbformat_minor": 2
}
